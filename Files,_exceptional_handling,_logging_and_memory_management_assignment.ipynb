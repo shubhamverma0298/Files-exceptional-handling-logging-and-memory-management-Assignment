{
  "nbformat": 4,
  "nbformat_minor": 0,
  "metadata": {
    "colab": {
      "provenance": []
    },
    "kernelspec": {
      "name": "python3",
      "display_name": "Python 3"
    },
    "language_info": {
      "name": "python"
    }
  },
  "cells": [
    {
      "cell_type": "markdown",
      "source": [
        "# **Files, exceptional handling, logging and**\n",
        "# **memory management Assignment**"
      ],
      "metadata": {
        "id": "IhKO7Tl6gHAA"
      }
    },
    {
      "cell_type": "markdown",
      "source": [
        "**Q 1 What is the difference between interpreted and compiled languages?**\n",
        "  - compiled language : excute the code and then send to compiler and then to the os ex c ,C++ switch  \n",
        "interpreted language : code is executed line by line this means the code is executed directly without a seprate compilation stage to convert into machine code example python\n",
        "* python and java both are mix of interpreted  and compiled language\n",
        "\n",
        "**Q 2 What is exception handling in Python?**\n",
        "  - Exceptions are errors that occur at runtime when the program is being executed. They are usually caused by invalid user input or code that is invalid in Python. Exception handling allows the program to continue to execute even if an error occurs.\n",
        "  In python exception handling done by try and except block of code.\n",
        "  example\n",
        "          try : then the function to execute haveing any error.\n",
        "          except : block where the error is shown if their is any error.\n",
        "\n",
        "**Q 3 What is the purpose of the finally block in exception handling?**\n",
        "  - Exceptions are errors that occur at runtime when the program is being executed. They are usually caused by invalid user input or code that is invalid in Python. Exception handling allows the program to continue to execute even if an error occurs.\n",
        "  - Finally block in exception handaling used to execute every time when it is caled no matter the block of code having the error or not it will execute always.\n",
        "\n",
        "**Q 4 What is logging in Python?**\n",
        "  - logging :- logging in python is a module which allows you to records the state and flow of your code.\n",
        "  - logging is usefull for understanding , monitoring,debugging your code and\n",
        "  how the flow of code behave with time.\n",
        "\n",
        "**Q 5 What is the significance of the __del__ method in Python?**\n",
        "  - In Python, the __del__ method, also known as a destructor, is called by the garbage collector when an object is about to be destroyed, allowing you to perform cleanup tasks like closing files or releasing resources before the object is fully deallocated.\n",
        "\n",
        "**Q 6 What is the difference between import and from ... import in Python?**\n",
        "  - Import :- Is used when you want to import the whole code of the library in your project.\n",
        "  - from ..import :- Is used when you want to import the some part of the library to your project from the whole code of the library\n",
        "\n",
        "  example :- import os\n",
        "             from os import dirname\n",
        "\n",
        "**Q 7 How can you handle multiple exceptions in Python?**\n",
        "  - Exceptions are errors that occur at runtime when the program is being executed. They are usually caused by invalid user input or code that is invalid in Python. Exception handling allows the program to continue to execute even if an error occurs.\n",
        "  - In python we can handle multiple exception by executing try block with multiple except block of code.\n",
        "  - In python we can handle multiple execption by the following example:\n",
        "  try :\n",
        "  the function to execute which can have multiple errors\n",
        "  except block for one error:\n",
        "  except block for another error:\n",
        "  except block for another error:\n",
        "\n",
        "**Q 8 What is the purpose of the with statement when handling files in Python?**\n",
        "  - With statement is used with file handling because when using the file handaling with \"with statement\" the file will automatically close the file even if their is some error .\n",
        "\n",
        "**Q 9 What is the difference between multithreading and multiprocessing?**\n",
        "  - multithreading :-Program --> Process --> Divide into multiple threads,In\n",
        "one processer with multiple threads it is called multithreading.\n",
        "multhithreading uses concurantly to execcute and at a time only one thread is executing  using GIL.\n",
        "  - multiprocessing :- Program --> Process --> divide into different processers for paralel working.\n",
        "\n",
        "**Q 10 What are the advantages of using logging in a program?**\n",
        "  - logging :- logging in python is a module which allows you to records the state and flow of your code.\n",
        "  - Advantages of logging in python :- logging is usefull for understanding , monitoring,debugging your code and how the flow of code behave with time.\n",
        "\n",
        "**Q 11 What is memory management in Python?**\n",
        "  - In Python, memory management is handled automatically by the Python runtime, which allocates memory for objects and uses a garbage collector to reclaim memory no longer in use, preventing memory leaks.\n",
        "\n",
        "**Q 12 What are the basic steps involved in exception handling in Python?**\n",
        "  - Exceptions are errors that occur at runtime when the program is being executed. They are usually caused by invalid user input or code that is invalid in Python. Exception handling allows the program to continue to execute even if an error occurs.\n",
        "  - basic steps to preform the exception handling are as follow:\n",
        "    - try block.\n",
        "    - except block .\n",
        "    - a function or pice of code having error.\n",
        "    - the type of error they are having.\n",
        "\n",
        "**Q 13 Why is memory management important in Python?**\n",
        "  - In Python, memory management is handled automatically by the Python runtime, which allocates memory for objects and uses a garbage collector to reclaim memory no longer in use, preventing memory leaks.\n",
        "  - Importance of memory management are :-\n",
        "    - Automatic Memory Allocation.\n",
        "    - Garbage Collection.\n",
        "    - Reference Counting.\n",
        "    - Cyclic Garbage Collection.\n",
        "    - Memory Pools.\n",
        "    - Memory Management in CPython.\n",
        "\n",
        "**Q 14 What is the role of try and except in exception handling?**\n",
        "  - Exceptions are errors that occur at runtime when the program is being executed. They are usually caused by invalid user input or code that is invalid in Python. Exception handling allows the program to continue to execute even if an error occurs.\n",
        "  - basic steps to preform the exception handling are as follow:\n",
        "    - try block.(is used to have the block of code which may have error)\n",
        "    - except block.(is used to handle the error prevent the code from crash)\n",
        "\n",
        "**Q 15 How does Python's garbage collection system work?**\n",
        "  - Python's garbage collection system uses a hybrid approach of reference counting and generational garbage collection to automatically manage memory, reclaiming memory occupied by objects that are no longer in use, preventing memory leaks\n",
        "  - When the reference count of an object reaches 0, the reference counting garbage collection algorithm cleans up the object immediately\n",
        "\n",
        "**Q 16 What is the purpose of the else block in exception handling?**\n",
        "  - Exceptions are errors that occur at runtime when the program is being executed. They are usually caused by invalid user input or code that is invalid in Python. Exception handling allows the program to continue to execute even if an error occurs.\n",
        "  - The purpose of else block in python are :- when their is no error accor in the try block then the else block of code will execute\n",
        "  - It is used to preform some task on the basis of the execusion of the try block\n",
        "\n",
        "**Q 17 What are the common logging levels in Python?**\n",
        "  - logging :- logging in python is a module which allows you to records the state and flow of your code.\n",
        "  - different logging levels are as follow:\n",
        "      - Degug\n",
        "      - Info\n",
        "      - Warning\n",
        "      - Error\n",
        "      - Critical\n",
        "\n",
        "**Q 18 What is the difference between os.fork() and multiprocessing in Python?**\n",
        "  - The only real difference between the os.fork and multiprocessing.Process is portability and library overhead, since os.fork is not supported in windows, and the multiprocessing framework is included to make multiprocessing.Process work. This is because os.fork is called by multiprocessing.Process\n",
        "\n",
        "**Q 19 What is the importance of closing a file in Python?**\n",
        "  - Closing the file in python is important because with out closing the you can't see what u have write in the file, helps maintain data integrity, prevent resource leaks, and ensure the reliability of your applications.\n",
        "\n",
        "**Q 20 What is the difference between file.read() and file.readline() in Python?**\n",
        "  - file.read() :- Function is used to read the entire file and by using the print function print the content of file.\n",
        "  - file.readline() :- Function is usde to read the file line by line and by using the print function print the content of file line by line in a list as the elements of the list.\n",
        "\n",
        "**Q 21 What is the logging module in Python used for?**\n",
        "  - logging module :- logging module in python is a module which allows you to records the state and flow of your code.\n",
        "  - logging module is usefull for understanding , monitoring,debugging your code and how the flow of code behave with time.\n",
        "\n",
        "**Q 22 What is the os module in Python used for in file handling?**\n",
        "  - OS module :- Known as operating system module. Python has a built-in os module with methods for interacting with the operating system, like creating files and directories, management of files and directories, input, output, environment variables, process management, etc.\n",
        "  - The OS module in Python is an indispensable tool for handling file-related tasks for programmers. The Python OS module is essential for file-related tasks, enabling efficient file and directory management in programs\n",
        "\n",
        "**Q 23 What are the challenges associated with memory management in Python?**\n",
        "  - Python's automatic memory management, while simplifying development, presents challenges like potential memory leaks due to circular references, performance overhead from garbage collection, and difficulty in optimizing memory usage for specific applications.\n",
        "\n",
        "**Q 24 How do you raise an exception manually in Python?**\n",
        "  - Exceptions are errors that occur at runtime when the program is being executed. They are usually caused by invalid user input or code that is invalid in Python. Exception handling allows the program to continue to execute even if an error occurs.\n",
        "  - Manually exception using try block and except block manually means passing the error name manually in except block which may occour\n",
        "  example : try block\n",
        "            expect block with some execption like ZeroDivisible Error manually\n",
        "\n",
        "**Q 25 Why is it important to use multithreading in certain applications?**\n",
        "  - Importance of multithreading :-\n",
        "    - Multithreading is crucial for certain applications as it enables concurrent execution of tasks, leading to improved performance, resource utilization, and responsiveness, especially in applications involving I/O or waiting for external events.\n",
        "    - To reduce the execussion time of the code\n"
      ],
      "metadata": {
        "id": "9YUNvPwagwaq"
      }
    },
    {
      "cell_type": "markdown",
      "source": [
        "#**Practical Questions**"
      ],
      "metadata": {
        "id": "CwgQw3nzztI-"
      }
    },
    {
      "cell_type": "markdown",
      "source": [
        "**Q 1 How can you open a file for writing in Python and write a string to it?**"
      ],
      "metadata": {
        "id": "GeNl5e8Bzzt_"
      }
    },
    {
      "cell_type": "code",
      "source": [
        "with open(\"Q1.txt\",\"w\") as f:\n",
        "  f.write(\"string for question first\")"
      ],
      "metadata": {
        "id": "cx3x33kKzmUp"
      },
      "execution_count": null,
      "outputs": []
    },
    {
      "cell_type": "markdown",
      "source": [
        "**Q 2 Write a Python program to read the contents of a file and print each line?**"
      ],
      "metadata": {
        "id": "PQ_LOE0e0tkO"
      }
    },
    {
      "cell_type": "code",
      "source": [
        "file=open(\"Q1.txt\",\"r\")\n",
        "for i in file:\n",
        "  print(i)\n",
        "file.close()"
      ],
      "metadata": {
        "colab": {
          "base_uri": "https://localhost:8080/"
        },
        "id": "jbcQyIiJ0qxD",
        "outputId": "76ccf7b3-ef60-4d5f-95eb-6c26ebf79a96"
      },
      "execution_count": null,
      "outputs": [
        {
          "output_type": "stream",
          "name": "stdout",
          "text": [
            "string for question first\n"
          ]
        }
      ]
    },
    {
      "cell_type": "markdown",
      "source": [
        "**Q 3 How would you handle a case where the file doesn't exist while trying to open it for reading?**"
      ],
      "metadata": {
        "id": "pSetNghh1WrH"
      }
    },
    {
      "cell_type": "code",
      "source": [
        "try:\n",
        "  file=open(\"example.txt\",\"r\")\n",
        "  file.close()\n",
        "except Exception as e:\n",
        "  print(e)"
      ],
      "metadata": {
        "colab": {
          "base_uri": "https://localhost:8080/"
        },
        "id": "kW8lLonh1TTf",
        "outputId": "a8029f1a-f2b9-46f3-b7ba-2ca2d0adbb80"
      },
      "execution_count": null,
      "outputs": [
        {
          "output_type": "stream",
          "name": "stdout",
          "text": [
            "[Errno 2] No such file or directory: 'example.txt'\n"
          ]
        }
      ]
    },
    {
      "cell_type": "markdown",
      "source": [
        "**Q 4  Write a Python script that reads from one file and writes its content to another file?**"
      ],
      "metadata": {
        "id": "kxlGBVDe189T"
      }
    },
    {
      "cell_type": "code",
      "source": [
        "f=open(\"Q1.txt\",\"r\")\n",
        "f1=open(\"Q4.txt\",\"w\")\n",
        "for i in f:\n",
        "  f1.write(i)\n",
        "f.close()\n",
        "f1.close()\n",
        "print(\"file copied\")\n",
        "f2=open(\"Q4.txt\",\"r\")\n",
        "for i in f2:\n",
        "  print(i)\n",
        "f2.close()"
      ],
      "metadata": {
        "colab": {
          "base_uri": "https://localhost:8080/"
        },
        "id": "kqoIVEZS15WP",
        "outputId": "38a3cd3e-f13d-4784-9c9c-0e7725aeab22"
      },
      "execution_count": null,
      "outputs": [
        {
          "output_type": "stream",
          "name": "stdout",
          "text": [
            "file copied\n",
            "string for question first\n"
          ]
        }
      ]
    },
    {
      "cell_type": "markdown",
      "source": [
        "**Q 5 How would you catch and handle division by zero error in Python?**"
      ],
      "metadata": {
        "id": "yO9K4ajy2i9H"
      }
    },
    {
      "cell_type": "code",
      "source": [
        "try:\n",
        "  10/0\n",
        "except ZeroDivisionError as e:\n",
        "  print(e)"
      ],
      "metadata": {
        "colab": {
          "base_uri": "https://localhost:8080/"
        },
        "id": "0ZGMAvOC2a_N",
        "outputId": "1c622514-d3f2-4ce6-9815-07159f2af124"
      },
      "execution_count": null,
      "outputs": [
        {
          "output_type": "stream",
          "name": "stdout",
          "text": [
            "division by zero\n"
          ]
        }
      ]
    },
    {
      "cell_type": "markdown",
      "source": [
        "**Q 6 Write a Python program that logs an error message to a log file when a division by zero exception occurs?**"
      ],
      "metadata": {
        "id": "hwdHdko129dD"
      }
    },
    {
      "cell_type": "code",
      "source": [
        "import logging\n",
        "logging.basicConfig(filename=\"Q6.log\",level=logging.ERROR)\n",
        "try:\n",
        "  10/0\n",
        "except ZeroDivisionError as e:\n",
        "  logging.error(f'the error is :- {e}')"
      ],
      "metadata": {
        "colab": {
          "base_uri": "https://localhost:8080/"
        },
        "id": "OWHaZxZX276i",
        "outputId": "c9af5293-e501-42e6-d3a5-23c958e8fe4c"
      },
      "execution_count": null,
      "outputs": [
        {
          "output_type": "stream",
          "name": "stderr",
          "text": [
            "ERROR:root:the error accour is :- division by zero\n"
          ]
        }
      ]
    },
    {
      "cell_type": "markdown",
      "source": [
        "**Q 7 How do you log information at different levels (INFO, ERROR, WARNING) in Python using the logging module?**"
      ],
      "metadata": {
        "id": "XBuXHX893eP0"
      }
    },
    {
      "cell_type": "code",
      "source": [
        "import logging\n",
        "logging.basicConfig(filename=\"q7.log\",level=logging.DEBUG)\n",
        "logging.info(\"this is info\")\n",
        "logging.error(\"this is error\")\n",
        "logging.warning(\"this is warning\")"
      ],
      "metadata": {
        "colab": {
          "base_uri": "https://localhost:8080/"
        },
        "id": "OrIuG34P3cKE",
        "outputId": "5bdd358c-2e01-4081-9ecc-f330f540a4e0"
      },
      "execution_count": null,
      "outputs": [
        {
          "output_type": "stream",
          "name": "stderr",
          "text": [
            "ERROR:root:this is error\n",
            "WARNING:root:this is warning\n"
          ]
        }
      ]
    },
    {
      "cell_type": "markdown",
      "source": [
        "**Q 8 Write a program to handle a file opening error using exception handling?**"
      ],
      "metadata": {
        "id": "bVRsYTiD94Hl"
      }
    },
    {
      "cell_type": "code",
      "source": [
        "try:\n",
        "  file=open(\"Q8.txt\",\"r\")\n",
        "  file.close()\n",
        "except Exception as e:\n",
        "  print(e)"
      ],
      "metadata": {
        "colab": {
          "base_uri": "https://localhost:8080/"
        },
        "id": "PgBQBzbV9xPU",
        "outputId": "13b7dd21-f7a9-45fd-dddf-64db2f567220"
      },
      "execution_count": null,
      "outputs": [
        {
          "output_type": "stream",
          "name": "stdout",
          "text": [
            "[Errno 2] No such file or directory: 'Q8.txt'\n"
          ]
        }
      ]
    },
    {
      "cell_type": "markdown",
      "source": [
        "**Q 9  How can you read a file line by line and store its content in a list in Python?**"
      ],
      "metadata": {
        "id": "WDV4Rv_4_FVK"
      }
    },
    {
      "cell_type": "code",
      "source": [
        "file=open(\"Q9.txt\",\"w\")\n",
        "file.write(\"this is first line\\n\")\n",
        "file.write(\"this is the answer of question 9\\n\")\n",
        "file.write(\"this file is completed\\n\")\n",
        "file.close()\n",
        "file=open(\"Q9.txt\",\"r\")\n",
        "print(file.readlines())\n",
        "file.close()"
      ],
      "metadata": {
        "colab": {
          "base_uri": "https://localhost:8080/"
        },
        "id": "Vuy3IFr1_DmM",
        "outputId": "e01cb913-4186-495b-c526-8d56fd076ef5"
      },
      "execution_count": null,
      "outputs": [
        {
          "output_type": "stream",
          "name": "stdout",
          "text": [
            "['this is first line\\n', 'this is the answer of question 9\\n', 'this file is completed\\n']\n"
          ]
        }
      ]
    },
    {
      "cell_type": "markdown",
      "source": [
        "**Q 10 How can you append data to an existing file in Python?**"
      ],
      "metadata": {
        "id": "EXAtVPGqAeGZ"
      }
    },
    {
      "cell_type": "code",
      "source": [
        "file=open(\"Q9.txt\",\"a\")\n",
        "file.write(\"this is the answer of question 10\\n\")\n",
        "file.close()\n",
        "file=open(\"Q9.txt\",\"r\")\n",
        "print(file.readlines())\n",
        "file.close()"
      ],
      "metadata": {
        "colab": {
          "base_uri": "https://localhost:8080/"
        },
        "id": "RHVqCVIbAOBa",
        "outputId": "1dac521c-1532-43a4-c7b3-f6ffa8c4ebd2"
      },
      "execution_count": null,
      "outputs": [
        {
          "output_type": "stream",
          "name": "stdout",
          "text": [
            "['this is first line\\n', 'this is the answer of question 9\\n', 'this file is completed\\n', 'this is the answer of question 10\\n']\n"
          ]
        }
      ]
    },
    {
      "cell_type": "markdown",
      "source": [
        "**Q 11 Write a Python program that uses a try-except block to handle an error when attempting to access a dictionary key that doesn't exist?**"
      ],
      "metadata": {
        "id": "2_69H5cpBBSy"
      }
    },
    {
      "cell_type": "code",
      "source": [
        "dic={\"name\":\"rohan\",\"age\":\"20\"}\n",
        "try:\n",
        "  value=dic[\"gender\"]\n",
        "  print(value)\n",
        "except KeyError as e:\n",
        "  print(f\"the key doesn't exist :- {e}\")"
      ],
      "metadata": {
        "colab": {
          "base_uri": "https://localhost:8080/"
        },
        "id": "YXKSEyBiCist",
        "outputId": "bd2aaa9b-c36b-401b-d2e5-d459ae420c6d"
      },
      "execution_count": null,
      "outputs": [
        {
          "output_type": "stream",
          "name": "stdout",
          "text": [
            "the key doesn't exist :- 'gender'\n"
          ]
        }
      ]
    },
    {
      "cell_type": "markdown",
      "source": [
        "**Q 12 Write a program that demonstrates using multiple except blocks to handle different types of exceptions?**"
      ],
      "metadata": {
        "id": "Mx9MSWcaDIvZ"
      }
    },
    {
      "cell_type": "code",
      "source": [
        "try:\n",
        "  15/0\n",
        "  list=[1,2,3,4]\n",
        "  print(list[4])\n",
        "except ZeroDivisionError as e:\n",
        "  print(f'the number is divisible by zero {e}')\n",
        "except IndexError as e:\n",
        "  print(f'the index is out of range {e}')"
      ],
      "metadata": {
        "colab": {
          "base_uri": "https://localhost:8080/"
        },
        "id": "sgwhLRQvDeZV",
        "outputId": "0daa0808-6c75-4d65-d965-4e5dcc099882"
      },
      "execution_count": null,
      "outputs": [
        {
          "output_type": "stream",
          "name": "stdout",
          "text": [
            "the number is divisible by zero division by zero\n"
          ]
        }
      ]
    },
    {
      "cell_type": "markdown",
      "source": [
        "**Q 13  How would you check if a file exists before attempting to read it in Python?**\n"
      ],
      "metadata": {
        "id": "h8TJMhpZEDw6"
      }
    },
    {
      "cell_type": "code",
      "source": [
        "try:\n",
        "  file=open(\"Q13.txt\",\"r\")\n",
        "  file.close()\n",
        "except FileNotFoundError as e:\n",
        "  print(f\"the file doesn't exist {e}\")\n",
        "else:\n",
        "  print(file.read())\n"
      ],
      "metadata": {
        "colab": {
          "base_uri": "https://localhost:8080/"
        },
        "id": "0l58ImGUD8WC",
        "outputId": "35cee0c4-1116-4784-95a6-febd90cbfc86"
      },
      "execution_count": null,
      "outputs": [
        {
          "output_type": "stream",
          "name": "stdout",
          "text": [
            "the file doesn't exist [Errno 2] No such file or directory: 'Q13.txt'\n"
          ]
        }
      ]
    },
    {
      "cell_type": "markdown",
      "source": [
        "**Q 14 Write a program that uses the logging module to log both informational and error messages?**"
      ],
      "metadata": {
        "id": "yVM6-o49E79Y"
      }
    },
    {
      "cell_type": "code",
      "source": [
        "import logging\n",
        "logging.basicConfig(filename=\"Q14.log\",level=logging.INFO)\n",
        "logging.error(\"this is error\")\n",
        "logging.info(\"this is info\")\n"
      ],
      "metadata": {
        "colab": {
          "base_uri": "https://localhost:8080/"
        },
        "id": "1qRNTpTyEmnB",
        "outputId": "e5fde4eb-c010-48b6-a565-b0ea6b553f3b"
      },
      "execution_count": null,
      "outputs": [
        {
          "output_type": "stream",
          "name": "stderr",
          "text": [
            "ERROR:root:this is error\n"
          ]
        }
      ]
    },
    {
      "cell_type": "markdown",
      "source": [
        "**Q 15 Write a Python program that prints the content of a file and handles the case when the file is empty?**"
      ],
      "metadata": {
        "id": "gIhdnkYsFUpZ"
      }
    },
    {
      "cell_type": "code",
      "source": [
        "with open(\"Q15.txt\",\"w\") as file:\n",
        "  file.write(\"\")\n",
        "try:\n",
        "  file=open(\"Q15.txt\",\"r\")\n",
        "  if file.read()==\"\":\n",
        "    raise Exception()\n",
        "  else:\n",
        "    print(file.read())\n",
        "\n",
        "except Exception as e:\n",
        "  print(f\"the file is empty {e}\")\n"
      ],
      "metadata": {
        "colab": {
          "base_uri": "https://localhost:8080/"
        },
        "id": "t5e0HM15FOx3",
        "outputId": "5b00ae80-6535-4d02-dd2c-e345f51c1930"
      },
      "execution_count": null,
      "outputs": [
        {
          "output_type": "stream",
          "name": "stdout",
          "text": [
            "the file is empty name 'e' is not defined\n"
          ]
        }
      ]
    },
    {
      "cell_type": "markdown",
      "source": [
        "**Q 16 Demonstrate how to use memory profiling to check the memory usage of a small program?**"
      ],
      "metadata": {
        "id": "GdeZyS6YIHWJ"
      }
    },
    {
      "cell_type": "code",
      "source": [
        "!pip install memory_profiler\n",
        "\n",
        "%load_ext memory_profiler\n",
        "\n",
        "# Example function to profile\n",
        "def my_function():\n",
        "    a = [1] * (10 ** 6)\n",
        "    b = [2] * (2 * 10 ** 7)\n",
        "    del b\n",
        "    return a\n",
        "\n",
        "\n",
        "%memit my_function()"
      ],
      "metadata": {
        "colab": {
          "base_uri": "https://localhost:8080/"
        },
        "id": "fIs_Lb2nIWsG",
        "outputId": "9e84a9e2-e82f-43f1-b93f-429308eb396e"
      },
      "execution_count": null,
      "outputs": [
        {
          "output_type": "stream",
          "name": "stdout",
          "text": [
            "Collecting memory_profiler\n",
            "  Downloading memory_profiler-0.61.0-py3-none-any.whl.metadata (20 kB)\n",
            "Requirement already satisfied: psutil in /usr/local/lib/python3.11/dist-packages (from memory_profiler) (5.9.5)\n",
            "Downloading memory_profiler-0.61.0-py3-none-any.whl (31 kB)\n",
            "Installing collected packages: memory_profiler\n",
            "Successfully installed memory_profiler-0.61.0\n",
            "peak memory: 435.55 MiB, increment: 147.00 MiB\n"
          ]
        }
      ]
    },
    {
      "cell_type": "markdown",
      "source": [
        "**Q 17 Write a Python program to create and write a list of numbers to a file, one number per line?**"
      ],
      "metadata": {
        "id": "cDaLy_QhIbEK"
      }
    },
    {
      "cell_type": "code",
      "source": [
        "file=open(\"Q17.txt\",\"w\")\n",
        "for i in range(1,11):\n",
        "  file.write(f\"{i}\\n\")\n",
        "file.close()\n",
        "file=open(\"Q17.txt\",\"r\")\n",
        "print(file.read())\n",
        "file.close()"
      ],
      "metadata": {
        "colab": {
          "base_uri": "https://localhost:8080/"
        },
        "id": "MrMo37JaIYdX",
        "outputId": "a908d543-b728-4742-fae3-96d433b63105"
      },
      "execution_count": null,
      "outputs": [
        {
          "output_type": "stream",
          "name": "stdout",
          "text": [
            "1\n",
            "2\n",
            "3\n",
            "4\n",
            "5\n",
            "6\n",
            "7\n",
            "8\n",
            "9\n",
            "10\n",
            "\n"
          ]
        }
      ]
    },
    {
      "cell_type": "markdown",
      "source": [
        "**Q 18 How would you implement a basic logging setup that logs to a file with rotation after 1MB?**"
      ],
      "metadata": {
        "id": "Eac9baEyI5A5"
      }
    },
    {
      "cell_type": "code",
      "source": [
        "import logging\n",
        "from logging.handlers import RotatingFileHandler\n",
        "\n",
        "def setup_logging(log_file):\n",
        "    handler = RotatingFileHandler(log_file, maxBytes=1024*1024, backupCount=5)\n",
        "    logger = logging.getLogger()\n",
        "    logger.setLevel(logging.INFO)\n",
        "    formatter = logging.Formatter('%(asctime)s - %(levelname)s - %(message)s')\n",
        "    handler.setFormatter(formatter)\n",
        "    logger.addHandler(handler)\n",
        "\n",
        "    return logger\n",
        "\n",
        "logger = setup_logging('my_app.log')\n",
        "\n",
        "logger.info('This is an informational message.')\n",
        "logger.warning('This is a warning message.')\n",
        "logger.error('This is an error message.')\n",
        "\n",
        "for i in range(100):\n",
        "  logger.info(f\"Log message number: {i}\")"
      ],
      "metadata": {
        "colab": {
          "base_uri": "https://localhost:8080/"
        },
        "id": "Y_0mXHjyJJVc",
        "outputId": "1b622eef-a485-4a27-a662-85a18ded6d4f"
      },
      "execution_count": 1,
      "outputs": [
        {
          "output_type": "stream",
          "name": "stderr",
          "text": [
            "INFO:root:This is an informational message.\n",
            "WARNING:root:This is a warning message.\n",
            "ERROR:root:This is an error message.\n",
            "INFO:root:Log message number: 0\n",
            "INFO:root:Log message number: 1\n",
            "INFO:root:Log message number: 2\n",
            "INFO:root:Log message number: 3\n",
            "INFO:root:Log message number: 4\n",
            "INFO:root:Log message number: 5\n",
            "INFO:root:Log message number: 6\n",
            "INFO:root:Log message number: 7\n",
            "INFO:root:Log message number: 8\n",
            "INFO:root:Log message number: 9\n",
            "INFO:root:Log message number: 10\n",
            "INFO:root:Log message number: 11\n",
            "INFO:root:Log message number: 12\n",
            "INFO:root:Log message number: 13\n",
            "INFO:root:Log message number: 14\n",
            "INFO:root:Log message number: 15\n",
            "INFO:root:Log message number: 16\n",
            "INFO:root:Log message number: 17\n",
            "INFO:root:Log message number: 18\n",
            "INFO:root:Log message number: 19\n",
            "INFO:root:Log message number: 20\n",
            "INFO:root:Log message number: 21\n",
            "INFO:root:Log message number: 22\n",
            "INFO:root:Log message number: 23\n",
            "INFO:root:Log message number: 24\n",
            "INFO:root:Log message number: 25\n",
            "INFO:root:Log message number: 26\n",
            "INFO:root:Log message number: 27\n",
            "INFO:root:Log message number: 28\n",
            "INFO:root:Log message number: 29\n",
            "INFO:root:Log message number: 30\n",
            "INFO:root:Log message number: 31\n",
            "INFO:root:Log message number: 32\n",
            "INFO:root:Log message number: 33\n",
            "INFO:root:Log message number: 34\n",
            "INFO:root:Log message number: 35\n",
            "INFO:root:Log message number: 36\n",
            "INFO:root:Log message number: 37\n",
            "INFO:root:Log message number: 38\n",
            "INFO:root:Log message number: 39\n",
            "INFO:root:Log message number: 40\n",
            "INFO:root:Log message number: 41\n",
            "INFO:root:Log message number: 42\n",
            "INFO:root:Log message number: 43\n",
            "INFO:root:Log message number: 44\n",
            "INFO:root:Log message number: 45\n",
            "INFO:root:Log message number: 46\n",
            "INFO:root:Log message number: 47\n",
            "INFO:root:Log message number: 48\n",
            "INFO:root:Log message number: 49\n",
            "INFO:root:Log message number: 50\n",
            "INFO:root:Log message number: 51\n",
            "INFO:root:Log message number: 52\n",
            "INFO:root:Log message number: 53\n",
            "INFO:root:Log message number: 54\n",
            "INFO:root:Log message number: 55\n",
            "INFO:root:Log message number: 56\n",
            "INFO:root:Log message number: 57\n",
            "INFO:root:Log message number: 58\n",
            "INFO:root:Log message number: 59\n",
            "INFO:root:Log message number: 60\n",
            "INFO:root:Log message number: 61\n",
            "INFO:root:Log message number: 62\n",
            "INFO:root:Log message number: 63\n",
            "INFO:root:Log message number: 64\n",
            "INFO:root:Log message number: 65\n",
            "INFO:root:Log message number: 66\n",
            "INFO:root:Log message number: 67\n",
            "INFO:root:Log message number: 68\n",
            "INFO:root:Log message number: 69\n",
            "INFO:root:Log message number: 70\n",
            "INFO:root:Log message number: 71\n",
            "INFO:root:Log message number: 72\n",
            "INFO:root:Log message number: 73\n",
            "INFO:root:Log message number: 74\n",
            "INFO:root:Log message number: 75\n",
            "INFO:root:Log message number: 76\n",
            "INFO:root:Log message number: 77\n",
            "INFO:root:Log message number: 78\n",
            "INFO:root:Log message number: 79\n",
            "INFO:root:Log message number: 80\n",
            "INFO:root:Log message number: 81\n",
            "INFO:root:Log message number: 82\n",
            "INFO:root:Log message number: 83\n",
            "INFO:root:Log message number: 84\n",
            "INFO:root:Log message number: 85\n",
            "INFO:root:Log message number: 86\n",
            "INFO:root:Log message number: 87\n",
            "INFO:root:Log message number: 88\n",
            "INFO:root:Log message number: 89\n",
            "INFO:root:Log message number: 90\n",
            "INFO:root:Log message number: 91\n",
            "INFO:root:Log message number: 92\n",
            "INFO:root:Log message number: 93\n",
            "INFO:root:Log message number: 94\n",
            "INFO:root:Log message number: 95\n",
            "INFO:root:Log message number: 96\n",
            "INFO:root:Log message number: 97\n",
            "INFO:root:Log message number: 98\n",
            "INFO:root:Log message number: 99\n"
          ]
        }
      ]
    },
    {
      "cell_type": "markdown",
      "source": [
        "**Q 19  Write a program that handles both IndexError and KeyError using a try-except block?**"
      ],
      "metadata": {
        "id": "3jA5dfcBJ6bU"
      }
    },
    {
      "cell_type": "code",
      "source": [
        "try:\n",
        "  list=[1,2,3]\n",
        "  print(list[3])\n",
        "  dic={\"name\":\"rohan\",\"age\":20}\n",
        "  value=dic[\"gender\"]\n",
        "except (IndexError,KeyError) as e:\n",
        "  print(f\"the error is {e}\")"
      ],
      "metadata": {
        "id": "sQCoPmpbJXv8",
        "colab": {
          "base_uri": "https://localhost:8080/"
        },
        "outputId": "2032cf26-a469-4b58-94a2-1d1dcdd44f26"
      },
      "execution_count": 3,
      "outputs": [
        {
          "output_type": "stream",
          "name": "stdout",
          "text": [
            "the error is list index out of range\n"
          ]
        }
      ]
    },
    {
      "cell_type": "markdown",
      "source": [
        "**Q 20 How would you open a file and read its contents using a context manager in Python?**"
      ],
      "metadata": {
        "id": "NjAl5GziKzUl"
      }
    },
    {
      "cell_type": "code",
      "source": [
        "with open(\"Q17.txt\", \"r\") as file:\n",
        "    contents = file.read()\n",
        "contents"
      ],
      "metadata": {
        "colab": {
          "base_uri": "https://localhost:8080/",
          "height": 36
        },
        "id": "gWplgIG8K_9s",
        "outputId": "d43d27c1-fde9-4288-cb7e-d6769c31698b"
      },
      "execution_count": 5,
      "outputs": [
        {
          "output_type": "execute_result",
          "data": {
            "text/plain": [
              "'1\\n2\\n3\\n4\\n5\\n6\\n7\\n8\\n9\\n10\\n'"
            ],
            "application/vnd.google.colaboratory.intrinsic+json": {
              "type": "string"
            }
          },
          "metadata": {},
          "execution_count": 5
        }
      ]
    },
    {
      "cell_type": "markdown",
      "source": [
        "**Q 21 Write a Python program that reads a file and prints the number of occurrences of a specific word?**"
      ],
      "metadata": {
        "id": "6aIEocdvLF_m"
      }
    },
    {
      "cell_type": "code",
      "source": [
        "def count_word_occurrences(filename, word):\n",
        "    try:\n",
        "        with open(filename, 'r') as file:\n",
        "            contents = file.read()\n",
        "            contents = contents.lower()\n",
        "            word = word.lower()\n",
        "            occurrences = contents.count(word)\n",
        "            return occurrences\n",
        "    except FileNotFoundError:\n",
        "        return -1\n",
        "filename = \"Q9.txt\"\n",
        "word_to_count = \"the\"\n",
        "count = count_word_occurrences(filename, word_to_count)\n",
        "\n",
        "if count == -1:\n",
        "    print(f\"Error: File '{filename}' not found.\")\n",
        "else:\n",
        "    print(f\"The word '{word_to_count}' appears {count} times in the file.\")\n"
      ],
      "metadata": {
        "colab": {
          "base_uri": "https://localhost:8080/"
        },
        "id": "YR2KcnLjMIcT",
        "outputId": "33ff326d-a4b6-4143-d778-8cd4cdc087b6"
      },
      "execution_count": 8,
      "outputs": [
        {
          "output_type": "stream",
          "name": "stdout",
          "text": [
            "The word 'the' appears 2 times in the file.\n"
          ]
        }
      ]
    },
    {
      "cell_type": "markdown",
      "source": [
        "**Q 22 How can you check if a file is empty before attempting to read its contents?**"
      ],
      "metadata": {
        "id": "4G0qgPM0MdoS"
      }
    },
    {
      "cell_type": "code",
      "source": [
        "with open(\"Q15.txt\",\"w\") as file:\n",
        "  file.write(\"\")\n",
        "try:\n",
        "  file=open(\"Q15.txt\",\"r\")\n",
        "  if file.read()==\"\":\n",
        "    raise Exception()\n",
        "  else:\n",
        "    print(file.read())\n",
        "\n",
        "except Exception as e:\n",
        "  print(f\"the file is empty {e}\")"
      ],
      "metadata": {
        "colab": {
          "base_uri": "https://localhost:8080/"
        },
        "id": "duB8CbYQMRww",
        "outputId": "e15530d4-1160-46d2-f208-66055b022854"
      },
      "execution_count": 9,
      "outputs": [
        {
          "output_type": "stream",
          "name": "stdout",
          "text": [
            "the file is empty \n"
          ]
        }
      ]
    },
    {
      "cell_type": "markdown",
      "source": [
        "**Q 23 Write a Python program that writes to a log file when an error occurs during file handling?**"
      ],
      "metadata": {
        "id": "ayy4SAYVM6Qd"
      }
    },
    {
      "cell_type": "code",
      "source": [
        "import logging\n",
        "logging.basicConfig(filename=\"Q23.log\",level=logging.ERROR)\n",
        "try:\n",
        "  file=open(\"Q23.txt\",\"r\")\n",
        "  file.close()\n",
        "except Exception as e:\n",
        "  logging.error(f\"the error is {e}\")"
      ],
      "metadata": {
        "colab": {
          "base_uri": "https://localhost:8080/"
        },
        "id": "q8zDW5A1M5aY",
        "outputId": "0011f1b8-5e2e-4762-a0de-9fe907225e07"
      },
      "execution_count": 10,
      "outputs": [
        {
          "output_type": "stream",
          "name": "stderr",
          "text": [
            "ERROR:root:the error is [Errno 2] No such file or directory: 'Q23.txt'\n"
          ]
        }
      ]
    }
  ]
}